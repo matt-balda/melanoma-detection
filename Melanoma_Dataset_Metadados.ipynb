{
  "nbformat": 4,
  "nbformat_minor": 0,
  "metadata": {
    "colab": {
      "provenance": []
    },
    "kernelspec": {
      "name": "python3",
      "display_name": "Python 3"
    },
    "language_info": {
      "name": "python"
    }
  },
  "cells": [
    {
      "cell_type": "code",
      "execution_count": 3,
      "metadata": {
        "id": "qpd-U8zeUJx7"
      },
      "outputs": [],
      "source": [
        "import os\n",
        "from PIL import Image"
      ]
    },
    {
      "cell_type": "code",
      "source": [
        "# Caminho para a pasta das imagens\n",
        "dataset_path = os.path.join('/content/drive/My Drive', 'melanoma_dataset')"
      ],
      "metadata": {
        "id": "PzzpJjQTUocn"
      },
      "execution_count": 4,
      "outputs": []
    },
    {
      "cell_type": "code",
      "source": [
        "# Verifica a quantidade de arquivos dentro das pastas e subpastas do dataset\n",
        "\n",
        "def count_files(path):\n",
        "  \"\"\"Conta os arquivos em uma pasta e suas subpastas.\"\"\"\n",
        "  total = 0\n",
        "  for dirpath, dirnames, filenames in os.walk(path):\n",
        "    count = len(filenames)\n",
        "    total += count\n",
        "    print(f'{dirpath}: {count} arquivos')\n",
        "  print(f'Total de arquivos: {total}')\n",
        "\n",
        "count_files(dataset_path)\n"
      ],
      "metadata": {
        "colab": {
          "base_uri": "https://localhost:8080/"
        },
        "id": "qNMs1AQJuHhC",
        "outputId": "f25a45e9-04de-4af1-f188-d2fda09cad59"
      },
      "execution_count": 5,
      "outputs": [
        {
          "output_type": "stream",
          "name": "stdout",
          "text": [
            "/content/drive/My Drive/melanoma_dataset: 0 arquivos\n",
            "/content/drive/My Drive/melanoma_dataset/train: 0 arquivos\n",
            "/content/drive/My Drive/melanoma_dataset/train/Malignant: 5630 arquivos\n",
            "/content/drive/My Drive/melanoma_dataset/train/Benign: 6329 arquivos\n",
            "/content/drive/My Drive/melanoma_dataset/test: 0 arquivos\n",
            "/content/drive/My Drive/melanoma_dataset/test/Malignant: 1000 arquivos\n",
            "/content/drive/My Drive/melanoma_dataset/test/Benign: 1000 arquivos\n",
            "Total de arquivos: 13959\n"
          ]
        }
      ]
    },
    {
      "cell_type": "code",
      "source": [
        "def get_image_dimensions(image_path):\n",
        "  \"\"\"Retorna as dimensões de uma imagem.\"\"\"\n",
        "  try:\n",
        "    img = Image.open(image_path)\n",
        "    width, height = img.size\n",
        "    print(f\"Dimensões da imagem {image_path}: {width}x{height}\")\n",
        "    return width, height\n",
        "  except Exception as e:\n",
        "    print(f\"Erro ao abrir a imagem {image_path}: {e}\")\n",
        "    return None\n",
        "\n",
        "# Teste de uma imagem:\n",
        "image_path = os.path.join(dataset_path, 'test', 'Benign', '6299.jpg')\n",
        "get_image_dimensions(image_path)\n"
      ],
      "metadata": {
        "colab": {
          "base_uri": "https://localhost:8080/"
        },
        "id": "VmtvM0BTu4pB",
        "outputId": "461c09ee-4aeb-4391-f4ac-b1b652aa10bd"
      },
      "execution_count": 6,
      "outputs": [
        {
          "output_type": "stream",
          "name": "stdout",
          "text": [
            "Dimensões da imagem /content/drive/My Drive/melanoma_dataset/test/Benign/6299.jpg: 224x224\n"
          ]
        },
        {
          "output_type": "execute_result",
          "data": {
            "text/plain": [
              "(224, 224)"
            ]
          },
          "metadata": {},
          "execution_count": 6
        }
      ]
    },
    {
      "cell_type": "code",
      "source": [
        "# Dimensões esperadas das imagens\n",
        "width_esperada = 224\n",
        "height_esperada = 224"
      ],
      "metadata": {
        "id": "78AmOgdRVHU4"
      },
      "execution_count": 7,
      "outputs": []
    },
    {
      "cell_type": "code",
      "source": [
        "# Listas para armazenar informações sobre imagens inconsistentes e corrompidas\n",
        "imagens_inconsistentes = []\n",
        "imagens_corrompidas = []\n"
      ],
      "metadata": {
        "id": "-WSfru_XVyNw"
      },
      "execution_count": 8,
      "outputs": []
    },
    {
      "cell_type": "code",
      "source": [
        "# Iterar sobre as pastas 'train' e 'test'\n",
        "for subset in ['train', 'test']:\n",
        "    subset_path = os.path.join(dataset_path, subset)\n",
        "\n",
        "    # Iterar sobre as pastas 'Benign' e 'Malignant' dentro de cada subset\n",
        "    for classe in ['Benign', 'Malignant']:\n",
        "        classe_path = os.path.join(subset_path, classe)\n",
        "\n",
        "        # Iterar sobre as imagens dentro de cada pasta\n",
        "        for filename in os.listdir(classe_path):\n",
        "            if filename.endswith(('.jpg', '.jpeg', '.png')):\n",
        "                image_path = os.path.join(classe_path, filename)\n",
        "\n",
        "                try:\n",
        "                    # Abrir a imagem e verificar suas dimensões\n",
        "                    img = Image.open(image_path)\n",
        "                    width, height = img.size\n",
        "\n",
        "                    if width != width_esperada or height != height_esperada:\n",
        "                        imagens_inconsistentes.append(\n",
        "                            {\n",
        "                                \"image_id\": filename,\n",
        "                                \"subset\": subset,\n",
        "                                \"classe\": classe,\n",
        "                                \"width\": width,\n",
        "                                \"height\": height,\n",
        "                            }\n",
        "                        )\n",
        "\n",
        "                except Exception as e:\n",
        "                    print(f\"Erro ao abrir a imagem {filename}: {e}\")\n",
        "                    imagens_corrompidas.append(\n",
        "                        {\"image_id\": filename, \"subset\": subset, \"classe\": classe}\n",
        "                    )"
      ],
      "metadata": {
        "id": "o2Nw_TaeZCa8"
      },
      "execution_count": 9,
      "outputs": []
    },
    {
      "cell_type": "code",
      "source": [
        "# Mostrar informações sobre imagens inconsistentes\n",
        "if imagens_inconsistentes:\n",
        "    print(\"\\nImagens com dimensões inconsistentes:\")\n",
        "    for img_info in imagens_inconsistentes:\n",
        "        print(img_info)\n",
        "else:\n",
        "    print(\"\\nNenhuma imagem com dimensões inconsistentes encontrada.\")"
      ],
      "metadata": {
        "colab": {
          "base_uri": "https://localhost:8080/"
        },
        "id": "uY-qrYmCZ1t0",
        "outputId": "240d3795-d142-47f2-d0f0-e6770a1ac4a8"
      },
      "execution_count": 10,
      "outputs": [
        {
          "output_type": "stream",
          "name": "stdout",
          "text": [
            "\n",
            "Nenhuma imagem com dimensões inconsistentes encontrada.\n"
          ]
        }
      ]
    },
    {
      "cell_type": "code",
      "source": [
        "# Mostrar informações sobre imagens corrompidas\n",
        "if imagens_corrompidas:\n",
        "    print(\"\\nImagens que não puderam ser abertas (potencialmente corrompidas):\")\n",
        "    for img_info in imagens_corrompidas:\n",
        "        print(img_info)\n",
        "else:\n",
        "    print(\"\\nNenhuma imagem potencialmente corrompida encontrada.\")"
      ],
      "metadata": {
        "colab": {
          "base_uri": "https://localhost:8080/"
        },
        "id": "OP_LJ8alZ-_E",
        "outputId": "24076718-6a60-4ddd-b977-e072d4d1f9af"
      },
      "execution_count": 11,
      "outputs": [
        {
          "output_type": "stream",
          "name": "stdout",
          "text": [
            "\n",
            "Nenhuma imagem potencialmente corrompida encontrada.\n"
          ]
        }
      ]
    },
    {
      "cell_type": "code",
      "source": [],
      "metadata": {
        "id": "SH3qQM_na_UX"
      },
      "execution_count": null,
      "outputs": []
    }
  ]
}